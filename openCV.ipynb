{
 "cells": [
  {
   "cell_type": "code",
   "execution_count": 14,
   "id": "c9bb39ed-11e9-465b-88e6-5adb88179a52",
   "metadata": {},
   "outputs": [],
   "source": [
    "import cv2\n",
    "import numpy as np "
   ]
  },
  {
   "cell_type": "code",
   "execution_count": 12,
   "id": "dbb6dad8",
   "metadata": {},
   "outputs": [
    {
     "name": "stdout",
     "output_type": "stream",
     "text": [
      "(1070, 2048, 3)\n",
      "<class 'numpy.ndarray'>\n",
      "[[[135 103  92]\n",
      "  [141 106  96]\n",
      "  [140  99  90]\n",
      "  ...\n",
      "  [ 97 110 118]\n",
      "  [ 92 109 106]\n",
      "  [114 135 127]]\n",
      "\n",
      " [[143 111 100]\n",
      "  [146 111 101]\n",
      "  [140 101  92]\n",
      "  ...\n",
      "  [ 73  87  93]\n",
      "  [109 127 126]\n",
      "  [129 152 144]]\n",
      "\n",
      " [[135 105  94]\n",
      "  [140 108  97]\n",
      "  [137 101  91]\n",
      "  ...\n",
      "  [ 47  66  71]\n",
      "  [ 95 117 115]\n",
      "  [ 89 112 107]]\n",
      "\n",
      " ...\n",
      "\n",
      " [[ 68  71  62]\n",
      "  [ 68  71  62]\n",
      "  [ 73  76  67]\n",
      "  ...\n",
      "  [ 64  57  42]\n",
      "  [ 62  54  41]\n",
      "  [ 69  62  47]]\n",
      "\n",
      " [[ 76  79  70]\n",
      "  [ 75  78  69]\n",
      "  [ 77  80  71]\n",
      "  ...\n",
      "  [ 62  54  37]\n",
      "  [ 46  37  23]\n",
      "  [ 49  41  24]]\n",
      "\n",
      " [[ 79  82  73]\n",
      "  [ 78  81  72]\n",
      "  [ 80  83  74]\n",
      "  ...\n",
      "  [140 132 115]\n",
      "  [117 109  92]\n",
      "  [124 116  99]]]\n"
     ]
    }
   ],
   "source": [
    "#read image\n",
    "image = cv2.imread('C:/Users/bigya/OneDrive/Desktop/opencv/traffic.jpg')\n",
    "print(image.shape)\n",
    "print(type(image))\n",
    "print(image)\n"
   ]
  },
  {
   "cell_type": "code",
   "execution_count": 5,
   "id": "0c0c66a6",
   "metadata": {},
   "outputs": [],
   "source": [
    "# convert into grayscale\n",
    "image_gray = cv2.cvtColor(image, cv2.COLOR_BGR2GRAY)\n"
   ]
  },
  {
   "cell_type": "code",
   "execution_count": 7,
   "id": "92c61f5c",
   "metadata": {},
   "outputs": [
    {
     "name": "stdout",
     "output_type": "stream",
     "text": [
      "(1070, 2048, 3)\n",
      "(512, 512, 3)\n"
     ]
    }
   ],
   "source": [
    "#Resize\n",
    "print(image.shape)\n",
    "image_resize = cv2.resize(image, (512, 512))\n",
    "print(image_resize.shape)\n",
    "image_resize = cv2.resize(image, (image.shape[0]//2, image.shape[1]//2)) #resize to half\n"
   ]
  },
  {
   "cell_type": "code",
   "execution_count": null,
   "id": "5a11f368",
   "metadata": {},
   "outputs": [],
   "source": [
    "#flipping\n",
    "image_flip = cv2.flip(image, 3)  #horizontal flip (any positive value)\n",
    "image_flip = cv2.flip(image, 0) #vertical flip\n",
    "image_flip = cv2.flip(image, -1) # both horizontal and vertical flip\n",
    "\n"
   ]
  },
  {
   "cell_type": "code",
   "execution_count": 11,
   "id": "7721f8a5",
   "metadata": {},
   "outputs": [
    {
     "data": {
      "text/plain": [
       "False"
      ]
     },
     "execution_count": 11,
     "metadata": {},
     "output_type": "execute_result"
    }
   ],
   "source": [
    "\n",
    "#cropping\n",
    "imageCrop = image[0:250, 0: 250]\n",
    "\n",
    "# saving an image\n",
    "cv2.imwrite('image/cropimage.png', imageCrop)"
   ]
  },
  {
   "cell_type": "code",
   "execution_count": 13,
   "id": "b3a763a9",
   "metadata": {},
   "outputs": [
    {
     "data": {
      "text/plain": [
       "array([[[135, 103,  92],\n",
       "        [141, 106,  96],\n",
       "        [140,  99,  90],\n",
       "        ...,\n",
       "        [ 97, 110, 118],\n",
       "        [ 92, 109, 106],\n",
       "        [114, 135, 127]],\n",
       "\n",
       "       [[143, 111, 100],\n",
       "        [146, 111, 101],\n",
       "        [140, 101,  92],\n",
       "        ...,\n",
       "        [ 73,  87,  93],\n",
       "        [109, 127, 126],\n",
       "        [129, 152, 144]],\n",
       "\n",
       "       [[135, 105,  94],\n",
       "        [140, 108,  97],\n",
       "        [137, 101,  91],\n",
       "        ...,\n",
       "        [ 47,  66,  71],\n",
       "        [ 95, 117, 115],\n",
       "        [ 89, 112, 107]],\n",
       "\n",
       "       ...,\n",
       "\n",
       "       [[ 68,  71,  62],\n",
       "        [ 68,  71,  62],\n",
       "        [ 73,  76,  67],\n",
       "        ...,\n",
       "        [ 64,  57,  42],\n",
       "        [ 62,  54,  41],\n",
       "        [ 69,  62,  47]],\n",
       "\n",
       "       [[ 76,  79,  70],\n",
       "        [ 75,  78,  69],\n",
       "        [ 77,  80,  71],\n",
       "        ...,\n",
       "        [ 62,  54,  37],\n",
       "        [ 46,  37,  23],\n",
       "        [ 49,  41,  24]],\n",
       "\n",
       "       [[ 79,  82,  73],\n",
       "        [ 78,  81,  72],\n",
       "        [ 80,  83,  74],\n",
       "        ...,\n",
       "        [140, 132, 115],\n",
       "        [117, 109,  92],\n",
       "        [124, 116,  99]]], dtype=uint8)"
      ]
     },
     "execution_count": 13,
     "metadata": {},
     "output_type": "execute_result"
    }
   ],
   "source": [
    "#  drawing shapes\n",
    "cv2.rectangle(image, (50, 50), (500, 500), thickness = 2, color = (0, 0, 255))\n",
    "cv2.circle(image, (image.shape[1] //2, image.shape[0]//2), radius = 100, color = (0, 255, 255), thickness = 4) # draw circle at centre\n",
    "cv2.putText(image, f'text in image', fontScale= 3, color = (255, 50 , 50 ), org = (image.shape[1]//2, 100), fontFace = cv2.FONT_ITALIC, thickness= 5)\n"
   ]
  },
  {
   "cell_type": "code",
   "execution_count": null,
   "id": "53e1d35d",
   "metadata": {},
   "outputs": [],
   "source": [
    "# create own image\n",
    "image = np.zeros((512, 512))\n",
    "\n",
    "# close window on pressing 'X'\n",
    "while True:\n",
    "    cv2.imshow('window', image)\n",
    "    if cv2.waitKey(1) & 0xFF == ord('X'):\n",
    "        break\n",
    "\n",
    "cv2.destroyAllWindows()\n"
   ]
  },
  {
   "cell_type": "code",
   "execution_count": null,
   "id": "b31b9def",
   "metadata": {},
   "outputs": [],
   "source": [
    "#assign function to mouse operation\n",
    "def draw(event, x, y, flags, params):\n",
    "    if event == 1:\n",
    "        # cv2.rectangle(image, (50, 50), (500, 500), thickness=2, color=(0, 0, 255))\n",
    "        cv2.circle(image, center = (x, y), color = (255, 0,0), thickness = -1, radius = 10)\n",
    "\n",
    "    if event == 4:\n",
    "        print('mouse unclicked')\n",
    "\n",
    "cv2.namedWindow('window')\n",
    "cv2.setMouseCallback('window', draw)\n",
    "\n",
    "while True:\n",
    "    cv2.imshow('window', image)\n",
    "    if cv2.waitKey(1) & 0xFF == ord('X'):\n",
    "        break\n",
    "\n",
    "cv2.destroyAllWindows()\n"
   ]
  },
  {
   "cell_type": "code",
   "execution_count": null,
   "id": "3f7a70ad",
   "metadata": {},
   "outputs": [],
   "source": [
    "#draw rectangle in screen in real-time\n",
    "flag = False\n",
    "ix = -1\n",
    "iy = -1\n",
    "\n",
    "def draw(event, x, y, flag, params):\n",
    "    global ix, iy\n",
    "    if event == 1:\n",
    "        flag = True\n",
    "        ix = x\n",
    "        iy = y\n",
    "\n",
    "    if event == 0:\n",
    "        if flag == True:\n",
    "            cv2.rectangle(image, (ix,iy), (x, y), color = (255, 0,0), thickness = -1)\n",
    "\n",
    "    if event == 4:\n",
    "        flag = False\n",
    "        cv2.rectangle(image, (ix, iy), (x, y), color = (255, 0,0), thickness = -1)\n",
    "\n",
    "\n",
    "\n",
    "cv2.namedWindow('window')\n",
    "cv2.setMouseCallback('window', draw)\n",
    "\n",
    "while True:\n",
    "    cv2.imshow('window', image)\n",
    "    if cv2.waitKey(1) & 0xFF == ord('X'):\n",
    "        break\n",
    "\n",
    "cv2.destroyAllWindows()\n"
   ]
  },
  {
   "cell_type": "code",
   "execution_count": null,
   "id": "45550807",
   "metadata": {},
   "outputs": [],
   "source": [
    "# crop image in real time\n",
    "ix = -1\n",
    "iy = -1\n",
    "flag = False\n",
    "\n",
    "def crop(event, x, y, flag, params):\n",
    "    global ix, iy\n",
    "\n",
    "    if event == 1:\n",
    "        print('inside click')\n",
    "        flag = True\n",
    "        ix = x\n",
    "        iy = y\n",
    "\n",
    "\n",
    "    if event == 0:\n",
    "        if flag == True:\n",
    "            print('drag')\n",
    "\n",
    "    if event == 4:\n",
    "        flag = False\n",
    "        fx = x\n",
    "        fy = y\n",
    "        # cv2.rectangle(image, (ix, iy), (x, y), color = (0, 0, 0), thickness = -1)\n",
    "        imageCrop = image[iy:fy, ix:fx]\n",
    "        cv2.imshow('new_window', imageCrop)\n",
    "        cv2.waitKey(0)\n",
    "\n",
    "cv2.namedWindow('window')\n",
    "cv2.setMouseCallback('window', crop)\n",
    "while True:\n",
    "    cv2.imshow('window', image)\n",
    "    if cv2.waitKey(1) & 0xFF == ord('X'):\n",
    "        break\n",
    "\n",
    "cv2.destroyAllWindows()\n"
   ]
  },
  {
   "cell_type": "code",
   "execution_count": null,
   "id": "a489b518",
   "metadata": {},
   "outputs": [],
   "source": [
    "# working with vidoes\n",
    "\n",
    "# webcam\n",
    "vid = cv2.VideoCapture(0)\n",
    "while True:\n",
    "    ret, frames = vid.read()\n",
    "    print(ret)\n",
    "    cv2.imshow('webcam', frames)\n",
    "    if cv2.waitKey(1) & 0xFF == ord('X'):\n",
    "        break\n",
    "\n",
    "cv2.destroyAllWindows()\n",
    "\n",
    "video\n",
    "vid = cv2.VideoCapture('C:/Users/bigya/PycharmProjects/env312/pythonProject/video/bike.mp4')\n",
    "\n",
    "while True:\n",
    "    ret, frames = vid.read()\n",
    "    cv2.imshow('videoClip', frames)\n",
    "    if cv2.waitKey(1) & 0xFF == ord('X'):\n",
    "        break\n",
    "\n",
    "cv2.destroyAllWindows()"
   ]
  }
 ],
 "metadata": {
  "kernelspec": {
   "display_name": "Python 3 (ipykernel)",
   "language": "python",
   "name": "python3"
  },
  "language_info": {
   "codemirror_mode": {
    "name": "ipython",
    "version": 3
   },
   "file_extension": ".py",
   "mimetype": "text/x-python",
   "name": "python",
   "nbconvert_exporter": "python",
   "pygments_lexer": "ipython3",
   "version": "3.12.2"
  }
 },
 "nbformat": 4,
 "nbformat_minor": 5
}
